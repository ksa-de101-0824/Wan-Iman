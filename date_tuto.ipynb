{
 "cells": [
  {
   "cell_type": "code",
   "execution_count": 4,
   "metadata": {},
   "outputs": [
    {
     "name": "stdout",
     "output_type": "stream",
     "text": [
      "{'store_id': 101, 'store_name': 'Kedai Makan Ahmad', 'location': 'Kuala Lumpur', 'opening_date': '2024/08/22', 'revenue': '$500K'}\n",
      "{'store_id': 102, 'store_name': 'Kedai Makan Aisyah', 'location': 'Penang', 'opening_date': '2024/07/15', 'revenue': '$450K'}\n",
      "{'store_id': 103, 'store_name': 'Kedai Makan Siti', 'location': 'Johor Bahru', 'opening_date': '2024/06/30', 'revenue': '$480K'}\n",
      "{'store_id': 104, 'store_name': 'Kedai Makan Ali', 'location': 'Ipoh', 'opening_date': '2024/05/10', 'revenue': '$400K'}\n",
      "{'store_id': 105, 'store_name': 'Kedai Makan Fatimah', 'location': 'Malacca', 'opening_date': '2024/04/25', 'revenue': '$430K'}\n",
      "{'store_id': 106, 'store_name': 'Kedai Makan Ahmad', 'location': 'Kuala Lumpur', 'opening_date': '2024/08/22', 'revenue': '$500K'}\n",
      "{'store_id': 107, 'store_name': 'Kedai Makan Aisyah', 'location': 'Penang', 'opening_date': '2024/07/15', 'revenue': '$450K'}\n",
      "{'store_id': 108, 'store_name': 'Kedai Makan Siti', 'location': 'Johor Bahru', 'opening_date': '2024/06/30', 'revenue': '$480K'}\n",
      "{'store_id': 109, 'store_name': 'Kedai Makan Ali', 'location': 'Ipoh', 'opening_date': '2024/05/10', 'revenue': '$400K'}\n",
      "{'store_id': 110, 'store_name': 'Kedai Makan Fatimah', 'location': 'Malacca', 'opening_date': '2024/04/25', 'revenue': '$430K'}\n",
      "{'store_id': 111, 'store_name': 'Kedai Makan Ahmad', 'location': 'Kuala Lumpur', 'opening_date': '2024/08/22', 'revenue': '$500K'}\n",
      "{'store_id': 112, 'store_name': 'Kedai Makan Aisyah', 'location': 'Penang', 'opening_date': '2024/07/15', 'revenue': '$450K'}\n",
      "{'store_id': 113, 'store_name': 'Kedai Makan Siti', 'location': 'Johor Bahru', 'opening_date': '2024/06/30', 'revenue': '$480K'}\n",
      "{'store_id': 114, 'store_name': 'Kedai Makan Ali', 'location': 'Ipoh', 'opening_date': '2024/05/10', 'revenue': '$400K'}\n",
      "{'store_id': 115, 'store_name': 'Kedai Makan Fatimah', 'location': 'Malacca', 'opening_date': '2024/04/25', 'revenue': '$430K'}\n"
     ]
    }
   ],
   "source": [
    "from datetime import datetime\n",
    "\n",
    "\"\"\"Example (1): Convert Date Format\n",
    "\n",
    "You have a list of dictionaries containing information about franchises. \n",
    "The opening date is in different formats. You need to convert the opening \n",
    "date to a standard format.\n",
    "\n",
    "DEFAULT_DATE_FORMAT = \"%Y/%m/%d\"\n",
    "\"\"\"\n",
    " \n",
    "\n",
    "franchise_1 = [\n",
    "    {\"store_id\": 101, \"store_name\": \"Kedai Makan Ahmad\", \"location\": \"Kuala Lumpur\", \"opening_date\": \"2024-08-22\", \"revenue\": \"$500K\"},\n",
    "    {\"store_id\": 102, \"store_name\": \"Kedai Makan Aisyah\", \"location\": \"Penang\", \"opening_date\": \"2024-07-15\", \"revenue\": \"$450K\"},\n",
    "    {\"store_id\": 103, \"store_name\": \"Kedai Makan Siti\", \"location\": \"Johor Bahru\", \"opening_date\": \"2024-06-30\", \"revenue\": \"$480K\"},\n",
    "    {\"store_id\": 104, \"store_name\": \"Kedai Makan Ali\", \"location\": \"Ipoh\", \"opening_date\": \"2024-05-10\", \"revenue\": \"$400K\"},\n",
    "    {\"store_id\": 105, \"store_name\": \"Kedai Makan Fatimah\", \"location\": \"Malacca\", \"opening_date\": \"2024-04-25\", \"revenue\": \"$430K\"}\n",
    "]\n",
    "\n",
    "franchise_2 = [\n",
    "    {\"store_id\": 106, \"store_name\": \"Kedai Makan Ahmad\", \"location\": \"Kuala Lumpur\", \"opening_date\": \"22/08/2024\", \"revenue\": \"$500K\"},\n",
    "    {\"store_id\": 107, \"store_name\": \"Kedai Makan Aisyah\", \"location\": \"Penang\", \"opening_date\": \"15/07/2024\", \"revenue\": \"$450K\"},\n",
    "    {\"store_id\": 108, \"store_name\": \"Kedai Makan Siti\", \"location\": \"Johor Bahru\", \"opening_date\": \"30/06/2024\", \"revenue\": \"$480K\"},\n",
    "    {\"store_id\": 109, \"store_name\": \"Kedai Makan Ali\", \"location\": \"Ipoh\", \"opening_date\": \"10/05/2024\", \"revenue\": \"$400K\"},\n",
    "    {\"store_id\": 110, \"store_name\": \"Kedai Makan Fatimah\", \"location\": \"Malacca\", \"opening_date\": \"25/04/2024\", \"revenue\": \"$430K\"}\n",
    "]\n",
    "\n",
    "franchises_3 = [\n",
    "    {\"store_id\": 111, \"store_name\": \"Kedai Makan Ahmad\", \"location\": \"Kuala Lumpur\", \"opening_date\": \"August 22, 2024\", \"revenue\": \"$500K\"},\n",
    "    {\"store_id\": 112, \"store_name\": \"Kedai Makan Aisyah\", \"location\": \"Penang\", \"opening_date\": \"July 15, 2024\", \"revenue\": \"$450K\"},\n",
    "    {\"store_id\": 113, \"store_name\": \"Kedai Makan Siti\", \"location\": \"Johor Bahru\", \"opening_date\": \"June 30, 2024\", \"revenue\": \"$480K\"},\n",
    "    {\"store_id\": 114, \"store_name\": \"Kedai Makan Ali\", \"location\": \"Ipoh\", \"opening_date\": \"May 10, 2024\", \"revenue\": \"$400K\"},\n",
    "    {\"store_id\": 115, \"store_name\": \"Kedai Makan Fatimah\", \"location\": \"Malacca\", \"opening_date\": \"April 25, 2024\", \"revenue\": \"$430K\"}\n",
    "]\n",
    "\n",
    "DEFAULT_DATE_FORMAT = \"%Y/%m/%d\"\n",
    "\n",
    "for franchise in franchise_1:\n",
    "    date = datetime.strptime(franchise[\"opening_date\"], \"%Y-%m-%d\")\n",
    "    new_date_format = date.strftime(DEFAULT_DATE_FORMAT)\n",
    "    franchise[\"opening_date\"] = new_date_format\n",
    "    print(franchise)\n",
    "\n",
    "for franchise in franchise_2:\n",
    "    date = datetime.strptime(franchise[\"opening_date\"], \"%d/%m/%Y\")\n",
    "    new_date_format = date.strftime(DEFAULT_DATE_FORMAT)\n",
    "    franchise[\"opening_date\"] = new_date_format\n",
    "    print(franchise)\n",
    "\n",
    "for franchise in franchises_3:\n",
    "    date = datetime.strptime(franchise[\"opening_date\"], \"%B %d, %Y\")\n",
    "    new_date_format = date.strftime(DEFAULT_DATE_FORMAT)\n",
    "    franchise[\"opening_date\"] = new_date_format\n",
    "    print(franchise)"
   ]
  }
 ],
 "metadata": {
  "kernelspec": {
   "display_name": "Python 3",
   "language": "python",
   "name": "python3"
  },
  "language_info": {
   "codemirror_mode": {
    "name": "ipython",
    "version": 3
   },
   "file_extension": ".py",
   "mimetype": "text/x-python",
   "name": "python",
   "nbconvert_exporter": "python",
   "pygments_lexer": "ipython3",
   "version": "3.12.1"
  }
 },
 "nbformat": 4,
 "nbformat_minor": 2
}
