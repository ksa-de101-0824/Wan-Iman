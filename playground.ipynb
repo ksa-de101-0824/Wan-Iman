{
 "cells": [
  {
   "cell_type": "code",
   "execution_count": 1,
   "metadata": {},
   "outputs": [
    {
     "name": "stdout",
     "output_type": "stream",
     "text": [
      "Bot is running....\n"
     ]
    }
   ],
   "source": [
    "import telebot\n",
    "import os \n",
    "from dotenv import load_dotenv\n",
    "\n",
    "load_dotenv()\n",
    "API_KEY = os.getenv('TELEGRAM_API_KEY')\n",
    "\n",
    "\n",
    "\"\"\"Exercise 2: String Methods Using Bot\n",
    "\n",
    "Objective:\n",
    "    1. Create a bot that will convert the text to uppercase\n",
    "    2. Check if the text contains prohibited words\n",
    "    3. If the text contains prohibited words, delete the message\n",
    "    4. If the text does not contain prohibited words, convert the text to uppercase and reply to the user\n",
    "\n",
    "Hints:\n",
    "    1. Figure how to change \"nama saya rahman\" to -> [\"nama\", \"saya\", \"rahman\"]\n",
    "    2. Figure out how to check if the text contains prohibited words using set intersection\n",
    "    3. Use If Else statement to manage, Example: -\n",
    "        if check_text_message(text) == True:\n",
    "            reply_message(message, \"Please don't use prohibited words!\")\n",
    "            delete_message(message)\n",
    "        else:\n",
    "            reply_message(message, text.upper())\n",
    "\n",
    "\"\"\"\n",
    "\n",
    "\n",
    "bot = telebot.TeleBot(API_KEY)\n",
    "\n",
    "\n",
    "PROHIBITED_WORDS = {'dap', 'pas', 'pkr', 'umno', 'barisan nasional', 'pakatan harapan'}\n",
    "\n",
    "def start(message):\n",
    "    bot.reply_to(message, \"Send me any text, and I'll convert it to uppercase!\")\n",
    "\n",
    "def delete_message(message):\n",
    "    bot.delete_message(message.chat.id, message.message_id)\n",
    "\n",
    "def reply_message(message, reply_message):\n",
    "    bot.reply_to(message, reply_message)\n",
    "\n",
    "\n",
    "# Register a handler for all text messages\n",
    "def handle_text_messages(message):\n",
    "    \"\"\"Accept a message class as parameter\n",
    "\n",
    "    Args:\n",
    "        message (telebot.types.Message): A message class from telebot library\n",
    "    \n",
    "    Action:\n",
    "        1. Get the text from the message\n",
    "        2. Check if the text contains prohibited words\n",
    "        3. If it contains prohibited words, delete the message\n",
    "        4. If it does not contain prohibited words, convert the text to uppercase and reply to the user\n",
    "    \n",
    "    How To Use:\n",
    "        1. Delete Message - delete_message(message)\n",
    "        2. Reply Message - reply_message(message, reply_message)\n",
    "    \"\"\"\n",
    "    text = message.text\n",
    "    text = set(text.split())\n",
    "\n",
    "    check_intersect = PROHIBITED_WORDS.intersection(text)\n",
    "    \n",
    "\n",
    "    if len(check_intersect) > 0:\n",
    "        reply_message(message, \"Anda berbahaya\")\n",
    "        delete_message(message)\n",
    "    else:\n",
    "        reply_message(message, \"Anda Selamat\")\n",
    "\n",
    "\n",
    "    \n",
    "# Register command handler\n",
    "bot.message_handler(commands=['start'])(start)\n",
    "bot.message_handler(content_types=['text'])(handle_text_messages)\n",
    "print(\"Bot is running....\")\n",
    "bot.polling(none_stop=True)\n"
   ]
  },
  {
   "cell_type": "code",
   "execution_count": null,
   "metadata": {},
   "outputs": [],
   "source": []
  }
 ],
 "metadata": {
  "kernelspec": {
   "display_name": "Python 3",
   "language": "python",
   "name": "python3"
  },
  "language_info": {
   "codemirror_mode": {
    "name": "ipython",
    "version": 3
   },
   "file_extension": ".py",
   "mimetype": "text/x-python",
   "name": "python",
   "nbconvert_exporter": "python",
   "pygments_lexer": "ipython3",
   "version": "3.12.1"
  }
 },
 "nbformat": 4,
 "nbformat_minor": 2
}
