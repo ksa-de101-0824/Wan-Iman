{
 "cells": [
  {
   "cell_type": "code",
   "execution_count": 43,
   "metadata": {},
   "outputs": [],
   "source": [
    "students = {\n",
    "    \"001\": {\"name\": \"Aminah\", \"age\": 20, \"score\": 92},\n",
    "    \"002\": {\"name\": \"Hafiz\", \"age\": 21, \"score\": 85},\n",
    "    \"003\": {\"name\": \"Zahra\", \"age\": 22, \"score\": 95},\n",
    "    \"004\": {\"name\": \"Ali\", \"age\": 19, \"score\": 74},\n",
    "    \"005\": {\"name\": \"Fatimah\", \"age\": 20, \"score\": 88},\n",
    "    \"006\": {\"name\": \"Khalid\", \"age\": 21, \"score\": 90},\n",
    "    \"007\": {\"name\": \"Nadira\", \"age\": 22, \"score\": 82},\n",
    "    \"008\": {\"name\": \"Imran\", \"age\": 19, \"score\": 70},\n",
    "    \"009\": {\"name\": \"Sara\", \"age\": 20, \"score\": 94},\n",
    "    \"010\": {\"name\": \"Yusuf\", \"age\": 21, \"score\": 87}\n",
    "}\n"
   ]
  },
  {
   "cell_type": "code",
   "execution_count": 44,
   "metadata": {},
   "outputs": [
    {
     "name": "stdout",
     "output_type": "stream",
     "text": [
      "Student Name: Aminah\n",
      "Info: 001, {'name': 'Aminah', 'age': 20, 'score': 92, 'status': 'Excellent'}\n",
      "=================================\n",
      "Student Name: Hafiz\n",
      "Info: 002, {'name': 'Hafiz', 'age': 21, 'score': 85, 'status': 'Very Good'}\n",
      "=================================\n",
      "Student Name: Zahra\n",
      "Info: 003, {'name': 'Zahra', 'age': 22, 'score': 95, 'status': 'Excellent'}\n",
      "=================================\n",
      "Student Name: Ali\n",
      "Info: 004, {'name': 'Ali', 'age': 19, 'score': 74, 'status': 'In obvservation'}\n",
      "=================================\n",
      "Student Name: Fatimah\n",
      "Info: 005, {'name': 'Fatimah', 'age': 20, 'score': 88, 'status': 'Very Good'}\n",
      "=================================\n",
      "Student Name: Khalid\n",
      "Info: 006, {'name': 'Khalid', 'age': 21, 'score': 90, 'status': 'Very Good'}\n",
      "=================================\n",
      "Student Name: Nadira\n",
      "Info: 007, {'name': 'Nadira', 'age': 22, 'score': 82, 'status': 'Very Good'}\n",
      "=================================\n",
      "Student Name: Imran\n",
      "Info: 008, {'name': 'Imran', 'age': 19, 'score': 70, 'status': 'In obvservation'}\n",
      "=================================\n",
      "Student Name: Sara\n",
      "Info: 009, {'name': 'Sara', 'age': 20, 'score': 94, 'status': 'Excellent'}\n",
      "=================================\n",
      "Student Name: Yusuf\n",
      "Info: 010, {'name': 'Yusuf', 'age': 21, 'score': 87, 'status': 'Very Good'}\n",
      "=================================\n"
     ]
    }
   ],
   "source": [
    "for student, value in students.items():\n",
    "    print(f\"Student Name: {value['name']}\")\n",
    "    score = value['score']\n",
    "\n",
    "    if score > 90:\n",
    "        status = \"Excellent\"\n",
    "    elif score > 80:\n",
    "        status = \"Very Good\"\n",
    "    else:\n",
    "        status = \"In obvservation\"\n",
    "\n",
    "    value['status'] = status\n",
    "    print(f\"Info: {student}, {value}\")\n",
    "    print(\"=================================\")"
   ]
  }
 ],
 "metadata": {
  "kernelspec": {
   "display_name": "Python 3",
   "language": "python",
   "name": "python3"
  },
  "language_info": {
   "codemirror_mode": {
    "name": "ipython",
    "version": 3
   },
   "file_extension": ".py",
   "mimetype": "text/x-python",
   "name": "python",
   "nbconvert_exporter": "python",
   "pygments_lexer": "ipython3",
   "version": "3.12.1"
  }
 },
 "nbformat": 4,
 "nbformat_minor": 2
}
