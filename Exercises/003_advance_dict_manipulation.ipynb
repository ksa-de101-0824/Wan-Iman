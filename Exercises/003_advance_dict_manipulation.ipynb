{
 "cells": [
  {
   "cell_type": "code",
   "execution_count": 42,
   "metadata": {},
   "outputs": [],
   "source": [
    "students = [\n",
    "    {\n",
    "        \"name\": \"Ahmad Faizal\",\n",
    "        \"age\": 21,\n",
    "        \"courses\": {\n",
    "            \"Mathematics\": {\"grade\": \"A\", \"credits\": 3},\n",
    "            \"Physics\": {\"grade\": \"B\", \"credits\": 4},\n",
    "            \"History\": {\"grade\": \"A-\", \"credits\": 2}\n",
    "        },\n",
    "        \"extracurricular_activities\": [\"Debate Club\", \"Soccer\"]\n",
    "    },\n",
    "    {\n",
    "        \"name\": \"Nur Aisyah\",\n",
    "        \"age\": 22,\n",
    "        \"courses\": {\n",
    "            \"Mathematics\": {\"grade\": \"B+\", \"credits\": 3},\n",
    "            \"Chemistry\": {\"grade\": \"A\", \"credits\": 4},\n",
    "            \"Literature\": {\"grade\": \"A-\", \"credits\": 2}\n",
    "        },\n",
    "        \"extracurricular_activities\": [\"Drama Club\", \"Volunteering\"]\n",
    "    },\n",
    "    {\n",
    "        \"name\": \"Mohan Raj\",\n",
    "        \"age\": 20,\n",
    "        \"courses\": {\n",
    "            \"Biology\": {\"grade\": \"B\", \"credits\": 4},\n",
    "            \"Physics\": {\"grade\": \"A-\", \"credits\": 4},\n",
    "            \"Mathematics\": {\"grade\": \"A\", \"credits\": 3}\n",
    "        },\n",
    "        \"extracurricular_activities\": [\"Chess Club\", \"Basketball\"]\n",
    "    }\n",
    "]"
   ]
  },
  {
   "cell_type": "code",
   "execution_count": 47,
   "metadata": {},
   "outputs": [
    {
     "name": "stdout",
     "output_type": "stream",
     "text": [
      "Name: Ahmad Faizal\n",
      "Course: Mathematics, Grade: A, Credit: 3\n",
      "-------------------------------\n",
      "Course: Physics, Grade: B, Credit: 4\n",
      "-------------------------------\n",
      "Course: History, Grade: A-, Credit: 2\n",
      "-------------------------------\n",
      "Total credits: 9\n",
      "-------------------------------\n",
      "{'name': 'Ahmad Faizal', 'age': 21, 'courses': {'Mathematics': {'grade': 'A', 'credits': 3}, 'Physics': {'grade': 'B', 'credits': 4}, 'History': {'grade': 'A-', 'credits': 2}}, 'extracurricular_activities': ['Debate Club', 'Soccer', 'Cricket', 'Cricket', 'Cricket', 'Cricket'], 'total_credits': 9}\n",
      "\n",
      "\n",
      "Name: Nur Aisyah\n",
      "Course: Mathematics, Grade: B+, Credit: 3\n",
      "-------------------------------\n",
      "Course: Chemistry, Grade: A, Credit: 4\n",
      "-------------------------------\n",
      "Course: Literature, Grade: A-, Credit: 2\n",
      "-------------------------------\n",
      "Total credits: 9\n",
      "-------------------------------\n",
      "{'name': 'Nur Aisyah', 'age': 22, 'courses': {'Mathematics': {'grade': 'B+', 'credits': 3}, 'Chemistry': {'grade': 'A', 'credits': 4}, 'Literature': {'grade': 'A-', 'credits': 2}}, 'extracurricular_activities': ['Drama Club', 'Volunteering', 'Cricket', 'Cricket', 'Cricket', 'Cricket'], 'total_credits': 9}\n",
      "\n",
      "\n",
      "Name: Mohan Raj\n",
      "Course: Biology, Grade: B, Credit: 4\n",
      "-------------------------------\n",
      "Course: Physics, Grade: A-, Credit: 4\n",
      "-------------------------------\n",
      "Course: Mathematics, Grade: A, Credit: 3\n",
      "-------------------------------\n",
      "Total credits: 11\n",
      "-------------------------------\n",
      "{'name': 'Mohan Raj', 'age': 20, 'courses': {'Biology': {'grade': 'B', 'credits': 4}, 'Physics': {'grade': 'A-', 'credits': 4}, 'Mathematics': {'grade': 'A', 'credits': 3}}, 'extracurricular_activities': ['Chess Club', 'Basketball', 'Cricket', 'Cricket', 'Cricket', 'Cricket'], 'total_credits': 11}\n",
      "\n",
      "\n"
     ]
    }
   ],
   "source": [
    "for student in students:\n",
    "    print(f\"Name: {student['name']}\")\n",
    "\n",
    "    courses = student['courses']\n",
    "    total_credits = 0\n",
    "\n",
    "    for course, value in courses.items():\n",
    "        total_credits = value['credits'] + total_credits\n",
    "        print(f\"Course: {course}, Grade: {value[\"grade\"]}, Credit: {value[\"credits\"]}\")\n",
    "        print(\"-------------------------------\")\n",
    "        \n",
    "    print(f\"Total credits: {total_credits}\")\n",
    "    print(\"-------------------------------\")\n",
    "    student['total_credits'] = total_credits\n",
    "    \n",
    "    student['extracurricular_activities'].append(\"Cricket\")\n",
    "\n",
    "    print(student)\n",
    "    print(\"\\n\")\n",
    "\n"
   ]
  }
 ],
 "metadata": {
  "kernelspec": {
   "display_name": "Python 3",
   "language": "python",
   "name": "python3"
  },
  "language_info": {
   "codemirror_mode": {
    "name": "ipython",
    "version": 3
   },
   "file_extension": ".py",
   "mimetype": "text/x-python",
   "name": "python",
   "nbconvert_exporter": "python",
   "pygments_lexer": "ipython3",
   "version": "3.12.1"
  }
 },
 "nbformat": 4,
 "nbformat_minor": 2
}
