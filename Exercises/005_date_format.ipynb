{
 "cells": [
  {
   "cell_type": "code",
   "execution_count": 6,
   "metadata": {},
   "outputs": [
    {
     "name": "stdout",
     "output_type": "stream",
     "text": [
      "2024-11-20 00:00:00\n",
      "2024-01-20 00:00:00\n",
      "2024-01-20 00:00:00\n",
      "2024-01-20 12:00:00\n",
      "2024-01-20 12:00:00\n",
      "2024-01-20 12:00:00\n"
     ]
    }
   ],
   "source": [
    "from datetime import datetime\n",
    "\n",
    "\"\"\"Exercise (5:\n",
    "\n",
    "Testing your knowledge of datetime formats.\n",
    "\n",
    "The following code snippet is a list of tuples. \n",
    "Each tuple contains a date string and a format code.\n",
    "\n",
    "ONLY change the format code in each tuple to match the date string (..)\n",
    "\n",
    "The solutions are provided at 005_solution.py\n",
    "\"\"\"\n",
    "\n",
    "date_and_format_code = [\n",
    "    (\"20-11-2024\", \"%d-%m-%Y\"),\n",
    "    (\"20/Jan:2024\", \"%d/%b:%Y\"),\n",
    "    (\"20-Jan-2024\", \"%d-%b-%Y\"),\n",
    "    (\"20-Jan-24 12:00:00\", \"%d-%b-%y %H:%M:%S\"),\n",
    "    (\"Date: 20-Jan-24 12:00:00 PM\", \"Date: %d-%b-%y %H:%M:%S %p\"),\n",
    "    (\"20:Jan/24 12:00:00 PM\", \"%d:%b/%y %H:%M:%S %p\")\n",
    "]\n",
    "\n",
    "\n",
    "for date_str, format_code in date_and_format_code:\n",
    "    date = datetime.strptime(date_str, format_code)\n",
    "    print(date)"
   ]
  }
 ],
 "metadata": {
  "kernelspec": {
   "display_name": "Python 3",
   "language": "python",
   "name": "python3"
  },
  "language_info": {
   "codemirror_mode": {
    "name": "ipython",
    "version": 3
   },
   "file_extension": ".py",
   "mimetype": "text/x-python",
   "name": "python",
   "nbconvert_exporter": "python",
   "pygments_lexer": "ipython3",
   "version": "3.12.1"
  }
 },
 "nbformat": 4,
 "nbformat_minor": 2
}
